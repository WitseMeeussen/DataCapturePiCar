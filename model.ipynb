{
 "cells": [
  {
   "cell_type": "markdown",
   "metadata": {},
   "source": [
    "<h3>Model</h3>"
   ]
  },
  {
   "cell_type": "code",
   "execution_count": 5,
   "metadata": {},
   "outputs": [
    {
     "ename": "ModuleNotFoundError",
     "evalue": "No module named 'imgaug'",
     "output_type": "error",
     "traceback": [
      "\u001b[1;31m---------------------------------------------------------------------------\u001b[0m",
      "\u001b[1;31mModuleNotFoundError\u001b[0m                       Traceback (most recent call last)",
      "\u001b[1;32m~\\AppData\\Local\\Temp/ipykernel_22320/2902685777.py\u001b[0m in \u001b[0;36m<module>\u001b[1;34m\u001b[0m\n\u001b[0;32m     29\u001b[0m \u001b[1;31m# imaging\u001b[0m\u001b[1;33m\u001b[0m\u001b[1;33m\u001b[0m\u001b[0m\n\u001b[0;32m     30\u001b[0m \u001b[1;32mimport\u001b[0m \u001b[0mcv2\u001b[0m\u001b[1;33m\u001b[0m\u001b[1;33m\u001b[0m\u001b[0m\n\u001b[1;32m---> 31\u001b[1;33m \u001b[1;32mfrom\u001b[0m \u001b[0mimgaug\u001b[0m \u001b[1;32mimport\u001b[0m \u001b[0maugmenters\u001b[0m \u001b[1;32mas\u001b[0m \u001b[0mimg_aug\u001b[0m\u001b[1;33m\u001b[0m\u001b[1;33m\u001b[0m\u001b[0m\n\u001b[0m\u001b[0;32m     32\u001b[0m \u001b[1;32mimport\u001b[0m \u001b[0mmatplotlib\u001b[0m\u001b[1;33m.\u001b[0m\u001b[0mpyplot\u001b[0m \u001b[1;32mas\u001b[0m \u001b[0mplt\u001b[0m\u001b[1;33m\u001b[0m\u001b[1;33m\u001b[0m\u001b[0m\n\u001b[0;32m     33\u001b[0m \u001b[1;32mimport\u001b[0m \u001b[0mmatplotlib\u001b[0m\u001b[1;33m.\u001b[0m\u001b[0mimage\u001b[0m \u001b[1;32mas\u001b[0m \u001b[0mmpimg\u001b[0m\u001b[1;33m\u001b[0m\u001b[1;33m\u001b[0m\u001b[0m\n",
      "\u001b[1;31mModuleNotFoundError\u001b[0m: No module named 'imgaug'"
     ]
    }
   ],
   "source": [
    "# python standard libraries\n",
    "import os\n",
    "import random\n",
    "import fnmatch\n",
    "import datetime\n",
    "import pickle\n",
    "import re\n",
    "\n",
    "# data processing\n",
    "import numpy as np\n",
    "np.set_printoptions(formatter={'float_kind':lambda x: \"%.4f\" % x})\n",
    "\n",
    "import pandas as pd\n",
    "pd.set_option('display.width', 300)\n",
    "pd.set_option('display.float_format', '{:,.4f}'.format)\n",
    "pd.set_option('display.max_colwidth', 200)\n",
    "\n",
    "# tensorflow\n",
    "import tensorflow as tf\n",
    "import keras\n",
    "from keras.models import Sequential  # V2 is tensorflow.keras.xxxx, V1 is keras.xxx\n",
    "from keras.layers import Conv2D, MaxPool2D, Dropout, Flatten, Dense\n",
    "from keras.models import load_model\n",
    "\n",
    "# sklearn\n",
    "from sklearn.utils import shuffle\n",
    "from sklearn.model_selection import train_test_split\n",
    "\n",
    "# imaging\n",
    "import cv2\n",
    "from imgaug import augmenters as img_aug\n",
    "import matplotlib.pyplot as plt\n",
    "import matplotlib.image as mpimg\n",
    "%matplotlib inline\n",
    "from PIL import Image"
   ]
  },
  {
   "cell_type": "code",
   "execution_count": 3,
   "metadata": {},
   "outputs": [
    {
     "name": "stdout",
     "output_type": "stream",
     "text": [
      "['test0.png', 'test1.png', 'test10.png', 'test100.png', 'test101.png', 'test102.png', 'test103.png', 'test104.png', 'test105.png', 'test106.png', 'test107.png', 'test108.png', 'test109.png', 'test11.png', 'test110.png', 'test111.png', 'test112.png', 'test113.png', 'test114.png', 'test115.png', 'test116.png', 'test117.png', 'test118.png', 'test119.png', 'test12.png', 'test120.png', 'test121.png', 'test122.png', 'test123.png', 'test124.png', 'test125.png', 'test126.png', 'test127.png', 'test128.png', 'test129.png', 'test13.png', 'test130.png', 'test131.png', 'test132.png', 'test133.png', 'test134.png', 'test135.png', 'test136.png', 'test137.png', 'test138.png', 'test139.png', 'test14.png', 'test140.png', 'test141.png', 'test142.png', 'test143.png', 'test144.png', 'test145.png', 'test146.png', 'test147.png', 'test148.png', 'test149.png', 'test15.png', 'test150.png', 'test151.png', 'test152.png', 'test153.png', 'test154.png', 'test155.png', 'test156.png', 'test16.png', 'test17.png', 'test18.png', 'test19.png', 'test2.png', 'test20.png', 'test21.png', 'test22.png', 'test23.png', 'test24.png', 'test25.png', 'test26.png', 'test27.png', 'test28.png', 'test29.png', 'test3.png', 'test30.png', 'test31.png', 'test32.png', 'test33.png', 'test34.png', 'test35.png', 'test36.png', 'test37.png', 'test38.png', 'test39.png', 'test4.png', 'test40.png', 'test41.png', 'test42.png', 'test43.png', 'test44.png', 'test45.png', 'test46.png', 'test47.png', 'test48.png', 'test49.png', 'test5.png', 'test50.png', 'test51.png', 'test52.png', 'test53.png', 'test54.png', 'test55.png', 'test56.png', 'test57.png', 'test58.png', 'test59.png', 'test6.png', 'test60.png', 'test61.png', 'test62.png', 'test63.png', 'test64.png', 'test65.png', 'test66.png', 'test67.png', 'test68.png', 'test69.png', 'test7.png', 'test70.png', 'test71.png', 'test72.png', 'test73.png', 'test74.png', 'test75.png', 'test76.png', 'test77.png', 'test78.png', 'test79.png', 'test8.png', 'test80.png', 'test81.png', 'test82.png', 'test83.png', 'test84.png', 'test85.png', 'test86.png', 'test87.png', 'test88.png', 'test89.png', 'test9.png', 'test90.png', 'test91.png', 'test92.png', 'test93.png', 'test94.png', 'test95.png', 'test96.png', 'test97.png', 'test98.png', 'test99.png', '0_0.png', '10_1.png', '11_0.png', '12_0.png', '13_0.png', '14_0.png', '15_0.png', '16_0.png', '17_0.png', '18_0.png', '19_0.png', '1_0.png', '2_0.png', '3_0.png', '4_0.png', '5_0.png', '6_0.png', '7_0.png', '8_0.png', '9_0.png', '0_0.png', '10_0.png', '11_0.png', '12_0.png', '1_0.png', '2_1.png', '3_0.png', '4_0.png', '5_0.png', '6_-1.png', '7_1.png', '8_0.png', '9_0.png', '0_0.png', '100_0.png', '101_0.png', '102_0.png', '103_0.png', '104_0.png', '105_0.png', '106_0.png', '107_0.png', '108_0.png', '109_0.png', '10_0.png', '110_0.png', '11_0.png', '12_0.png', '13_0.png', '14_0.png', '15_0.png', '16_0.png', '17_0.png', '18_0.png', '19_0.png', '1_0.png', '20_0.png', '21_0.png', '22_0.png', '23_0.png', '24_0.png', '25_0.png', '26_0.png', '27_0.png', '28_0.png', '29_0.png', '2_0.png', '30_0.png', '31_0.png', '32_0.png', '33_0.png', '34_0.png', '35_0.png', '36_0.png', '37_0.png', '38_0.png', '39_0.png', '3_0.png', '40_0.png', '41_0.png', '42_0.png', '43_0.png', '44_0.png', '45_0.png', '46_0.png', '47_0.png', '48_0.png', '49_0.png', '4_0.png', '50_0.png', '51_0.png', '52_0.png', '53_0.png', '54_0.png', '55_0.png', '56_0.png', '57_0.png', '58_0.png', '59_0.png', '5_0.png', '60_0.png', '61_0.png', '62_0.png', '63_0.png', '64_0.png', '65_0.png', '66_0.png', '67_0.png', '68_0.png', '69_0.png', '6_0.png', '70_0.png', '71_0.png', '72_0.png', '73_0.png', '74_0.png', '75_0.png', '76_0.png', '77_0.png', '78_0.png', '79_0.png', '7_0.png', '80_0.png', '81_0.png', '82_0.png', '83_0.png', '84_0.png', '85_0.png', '86_0.png', '87_0.png', '88_0.png', '89_0.png', '8_0.png', '90_0.png', '91_0.png', '92_0.png', '93_0.png', '94_0.png', '95_0.png', '96_0.png', '97_0.png', '98_0.png', '99_0.png', '9_0.png', '0_0.png', '10_1.png', '11_1.png', '12_1.png', '13_1.png', '14_1.png', '15_1.png', '16_1.png', '17_0.png', '18_-1.png', '19_0.png', '1_0.png', '20_0.png', '21_1.png', '22_1.png', '23_1.png', '24_1.png', '25_1.png', '26_1.png', '27_1.png', '28_1.png', '29_1.png', '2_1.png', '30_1.png', '31_1.png', '32_1.png', '33_1.png', '34_1.png', '35_0.png', '36_-1.png', '37_-1.png', '38_-1.png', '39_-1.png', '3_1.png', '40_-1.png', '41_-1.png', '42_-1.png', '43_-1.png', '44_0.png', '45_1.png', '46_1.png', '47_-1.png', '48_-1.png', '49_-1.png', '4_0.png', '50_-1.png', '51_0.png', '52_0.png', '53_-1.png', '54_0.png', '55_0.png', '56_-1.png', '57_-1.png', '58_-1.png', '59_-1.png', '5_0.png', '60_-1.png', '61_-1.png', '62_-1.png', '63_0.png', '64_0.png', '65_1.png', '66_0.png', '67_0.png', '68_0.png', '69_1.png', '6_1.png', '70_1.png', '71_1.png', '72_0.png', '73_0.png', '74_0.png', '75_0.png', '76_1.png', '77_1.png', '78_1.png', '79_1.png', '7_1.png', '80_0.png', '81_0.png', '8_0.png', '9_0.png']\n"
     ]
    }
   ],
   "source": [
    "data_dir = './Data'\n",
    "data_folders = os.listdir(data_dir)\n",
    "file_list = []\n",
    "for dir in data_folders:\n",
    "    file_list = file_list + os.listdir(os.path.join(data_dir,dir))\n",
    "print(file_list)"
   ]
  },
  {
   "cell_type": "code",
   "execution_count": 21,
   "metadata": {},
   "outputs": [],
   "source": [
    "data_dir = './Data'\n",
    "data_folders = os.listdir(data_dir)\n",
    "file_list = []\n",
    "for dir in data_folders:\n",
    "    file_list = file_list + os.listdir(os.path.join(data_dir,dir))\n",
    "    \n",
    "image_paths = []\n",
    "steering_angles = []\n",
    "pattern = \"*.png\"\n",
    "for filename in file_list:\n",
    "    if fnmatch.fnmatch(filename, pattern):\n",
    "        image_paths.append(os.path.join(data_dir,filename))\n",
    "        angle = re.sub('.png','',re.sub('.*dir_','',filename))  # 092 part of video01_143_092.png is the angle. 90 is go straight\n",
    "        steering_angles.append(angle)"
   ]
  },
  {
   "cell_type": "markdown",
   "metadata": {},
   "source": [
    "The size of the validation set is not a good split. But we want to train the model on as much data as possible."
   ]
  },
  {
   "cell_type": "code",
   "execution_count": null,
   "metadata": {},
   "outputs": [],
   "source": [
    "X_train, X_valid, y_train, y_valid = train_test_split( image_paths, steering_angles, test_size=0.1)\n",
    "print(\"Training data: %d\\nValidation data: %d\" % (len(X_train), len(X_valid)))"
   ]
  },
  {
   "cell_type": "code",
   "execution_count": null,
   "metadata": {},
   "outputs": [],
   "source": [
    "def zoom(image):\n",
    "    zoom = img_aug.Affine(scale=(1, 1.3))  # zoom from 100% (no zoom) to 130%\n",
    "    image = zoom.augment_image(image)\n",
    "    return image"
   ]
  },
  {
   "cell_type": "code",
   "execution_count": null,
   "metadata": {},
   "outputs": [],
   "source": [
    "def random_flip(image, steering_angle):\n",
    "    is_flip = random.randint(0, 1)\n",
    "    #50 procent c\n",
    "    if is_flip == 1:\n",
    "        image = cv2.flip(image,1)\n",
    "        steering_angle = -steering_angle\n",
    "   \n",
    "    return image, steering_angle"
   ]
  }
 ],
 "metadata": {
  "interpreter": {
   "hash": "7713304168cbd30576c08cd8037e755ec502527db886bcfa010c8949df6f0886"
  },
  "kernelspec": {
   "display_name": "Python 3.9.7 64-bit",
   "language": "python",
   "name": "python3"
  },
  "language_info": {
   "codemirror_mode": {
    "name": "ipython",
    "version": 3
   },
   "file_extension": ".py",
   "mimetype": "text/x-python",
   "name": "python",
   "nbconvert_exporter": "python",
   "pygments_lexer": "ipython3",
   "version": "3.9.7"
  },
  "orig_nbformat": 4
 },
 "nbformat": 4,
 "nbformat_minor": 2
}
